{
 "cells": [
  {
   "cell_type": "markdown",
   "id": "90af8860",
   "metadata": {},
   "source": [
    "\n",
    "# Module 2: Optimized Fraud Detection Model Training"
   ]
  },
  {
   "cell_type": "code",
   "execution_count": 2,
   "id": "065daf40",
   "metadata": {},
   "outputs": [
    {
     "name": "stdout",
     "output_type": "stream",
     "text": [
      "/Users/matildamwendwa/Desktop/Desktop - Admin’s MacBook Pro/Python_Projects/fed-fraud-detection\n"
     ]
    }
   ],
   "source": [
    "import os\n",
    "os.chdir(\"..\")\n",
    "print(os.getcwd())"
   ]
  },
  {
   "cell_type": "code",
   "execution_count": 3,
   "id": "2a3c7a7e",
   "metadata": {},
   "outputs": [],
   "source": [
    "import torch\n",
    "import numpy as np\n",
    "import pandas as pd\n",
    "import matplotlib.pyplot as plt\n",
    "from sklearn.metrics import precision_recall_curve, auc, f1_score, confusion_matrix\n",
    "from IPython.display import clear_output\n",
    "\n",
    "\n",
    "from src.model_base import FraudDetectionModel, FocalLoss\n",
    "\n",
    "from scripts.model_training import model_evaluate, get_datasetloaders"
   ]
  },
  {
   "cell_type": "markdown",
   "id": "8daf53d3",
   "metadata": {},
   "source": [
    "## Configuration"
   ]
  },
  {
   "cell_type": "code",
   "execution_count": 4,
   "id": "977209b5",
   "metadata": {},
   "outputs": [],
   "source": [
    "CONFIG = {\n",
    "    \"batch_size\": 256,\n",
    "    \"epochs\": 50,\n",
    "    \"learning_rate\": 0.0005,\n",
    "    \"weight_decay\": 1e-5,\n",
    "    \"patience\": 3  # For learning rate scheduling\n",
    "}"
   ]
  },
  {
   "cell_type": "markdown",
   "id": "bed5a735",
   "metadata": {},
   "source": [
    "## 1. Data Loading"
   ]
  },
  {
   "cell_type": "code",
   "execution_count": 6,
   "id": "5780e5ab",
   "metadata": {},
   "outputs": [
    {
     "name": "stdout",
     "output_type": "stream",
     "text": [
      "Training batches: 3\n",
      "Validation batches: 1\n"
     ]
    }
   ],
   "source": [
    "try:\n",
    "    train_loader, val_loader = get_datasetloaders()\n",
    "    print(f\"Training batches: {len(train_loader)}\")\n",
    "    print(f\"Validation batches: {len(val_loader)}\")\n",
    "except FileNotFoundError:\n",
    "    print(\"Error: Preprocessed data not found! Run Module 1 first.\")\n",
    "    print(\"Execute this cell after running preprocessing:\")\n",
    "    print(\"!python scripts/run_preprocess.py\")"
   ]
  },
  {
   "cell_type": "markdown",
   "id": "41c09fd0",
   "metadata": {},
   "source": [
    "## 2. Model Initialization"
   ]
  },
  {
   "cell_type": "code",
   "execution_count": 5,
   "id": "535bebfc",
   "metadata": {},
   "outputs": [],
   "source": [
    "DEVICE = \"cuda\" if torch.cuda.is_available() else \"cpu\"\n",
    "model = FraudDetectionModel().to(DEVICE)\n",
    "optimizer = torch.optim.Adam(\n",
    "    model.parameters(),\n",
    "    lr=CONFIG[\"learning_rate\"],\n",
    "    weight_decay=CONFIG[\"weight_decay\"]\n",
    ")\n",
    "scheduler = torch.optim.lr_scheduler.ReduceLROnPlateau(\n",
    "    optimizer, \n",
    "    mode=\"max\",\n",
    "    patience=CONFIG[\"patience\"],\n",
    ")\n",
    "criterion = FocalLoss()"
   ]
  },
  {
   "cell_type": "markdown",
   "id": "84c1438b",
   "metadata": {},
   "source": [
    "## 3. Training Loop"
   ]
  },
  {
   "cell_type": "code",
   "execution_count": null,
   "id": "53bdc7d2",
   "metadata": {},
   "outputs": [],
   "source": [
    "# Training history storage\n",
    "history = {\n",
    "    \"train_loss\": [],\n",
    "    \"val_auc\": [],\n",
    "    \"val_f1\": []\n",
    "}\n",
    "\n",
    "# Interactive training loop\n",
    "for epoch in range(CONFIG[\"epochs\"]):\n",
    "    # Training phase\n",
    "    model.train()\n",
    "    epoch_loss = 0\n",
    "    \n",
    "    for X, y in train_loader:\n",
    "        X, y = X.to(DEVICE), y.to(DEVICE)\n",
    "        \n",
    "        optimizer.zero_grad()\n",
    "        outputs = model(X)\n",
    "        loss = criterion(outputs, y)\n",
    "        loss.backward()\n",
    "        torch.nn.utils.clip_grad_norm_(model.parameters(), 1.0)\n",
    "        optimizer.step()\n",
    "        \n",
    "        epoch_loss += loss.item()\n",
    "    \n",
    "    # Validation phase\n",
    "    val_metrics = model_evaluate(model, val_loader, DEVICE)\n",
    "    scheduler.step(val_metrics[\"auc_prc\"])\n",
    "    \n",
    "    # Store metrics\n",
    "    history[\"train_loss\"].append(epoch_loss/len(train_loader))\n",
    "    history[\"val_auc\"].append(val_metrics[\"auc_prc\"])\n",
    "    history[\"val_f1\"].append(val_metrics[\"f1\"])\n",
    "    \n",
    "    # Live updating plot\n",
    "    clear_output(wait=True)\n",
    "    fig, (ax1, ax2) = plt.subplots(1, 2, figsize=(15,5))\n",
    "    \n",
    "    # Loss plot\n",
    "    ax1.plot(history[\"train_loss\"], label=\"Training Loss\")\n",
    "    ax1.set_title(\"Training Loss\")\n",
    "    ax1.set_xlabel(\"Epoch\")\n",
    "    ax1.set_ylabel(\"Loss\")\n",
    "    ax1.legend()\n",
    "    \n",
    "    # Metrics plot\n",
    "    ax2.plot(history[\"val_auc\"], label=\"Validation AUPRC\")\n",
    "    ax2.plot(history[\"val_f1\"], label=\"Validation F1\")\n",
    "    ax2.set_title(\"Validation Metrics\")\n",
    "    ax2.set_xlabel(\"Epoch\")\n",
    "    ax2.set_ylabel(\"Score\")\n",
    "    ax2.legend()\n",
    "    \n",
    "    plt.show()\n",
    "    \n",
    "    # Print metrics\n",
    "    print(f\"Epoch {epoch+1}/{CONFIG['epochs']}\")\n",
    "    print(f\"Train Loss: {history['train_loss'][-1]:.4f}\")\n",
    "    print(f\"Val AUPRC: {history['val_auc'][-1]:.4f}\")\n",
    "    print(f\"Val F1: {history['val_f1'][-1]:.4f}\\n\")"
   ]
  },
  {
   "cell_type": "markdown",
   "id": "2bc9e8a6",
   "metadata": {},
   "source": [
    "## 4. Final Model Evaluation"
   ]
  },
  {
   "cell_type": "code",
   "execution_count": null,
   "id": "7d84bb60",
   "metadata": {},
   "outputs": [],
   "source": [
    "# from typing import final\n",
    "from sklearn.metrics import PrecisionRecallDisplay\n",
    "\n",
    "# Generate precision-recall curve\n",
    "final_metrics = model_evaluate(model, val_loader, DEVICE)\n",
    "PrecisionRecallDisplay.from_predictions(\n",
    "    final_metrics[\"y_true\"],\n",
    "    final_metrics[\"y_scores\"]\n",
    ")\n",
    "plt.title(f\"Final Precision-Recall Curve (AUPRC = {final_metrics['auc_prc']:.4f})\")\n",
    "plt.show()"
   ]
  },
  {
   "cell_type": "markdown",
   "id": "9a9d77a4",
   "metadata": {},
   "source": [
    "## 5. Model Testing & Prediction"
   ]
  },
  {
   "cell_type": "code",
   "execution_count": 11,
   "id": "0bd4ff49",
   "metadata": {},
   "outputs": [
    {
     "name": "stdout",
     "output_type": "stream",
     "text": [
      "Sample 144 Prediction:\n",
      "- Actual: Fraud\n",
      "- Fraud Probability: 83.06%\n",
      "- Predicted: Fraud\n",
      "----------------------------------------\n",
      "Sample 30 Prediction:\n",
      "- Actual: Fraud\n",
      "- Fraud Probability: 93.47%\n",
      "- Predicted: Fraud\n",
      "----------------------------------------\n",
      "Sample 52 Prediction:\n",
      "- Actual: Legitimate\n",
      "- Fraud Probability: 13.59%\n",
      "- Predicted: Legitimate\n",
      "----------------------------------------\n",
      "Sample 72 Prediction:\n",
      "- Actual: Legitimate\n",
      "- Fraud Probability: 13.15%\n",
      "- Predicted: Legitimate\n",
      "----------------------------------------\n",
      "Sample 60 Prediction:\n",
      "- Actual: Legitimate\n",
      "- Fraud Probability: 19.74%\n",
      "- Predicted: Legitimate\n",
      "----------------------------------------\n"
     ]
    }
   ],
   "source": [
    "import torch.nn.functional as F\n",
    "\n",
    "# Print 5 Sample Predictions\n",
    "for i in range(5):\n",
    "    model.eval()\n",
    "    sample_idx = np.random.randint(len(val_loader.dataset))\n",
    "    sample, label = val_loader.dataset[sample_idx]\n",
    "\n",
    "    with torch.no_grad():\n",
    "        prob = F.softmax(model(sample.unsqueeze(0).to(DEVICE)), dim=1)[0,1].item()\n",
    "\n",
    "    print(f\"Sample {sample_idx} Prediction:\")\n",
    "    print(f\"- Actual: {'Fraud' if label else 'Legitimate'}\")\n",
    "    print(f\"- Fraud Probability: {prob:.2%}\")\n",
    "    print(f\"- Predicted: {'Fraud' if prob > 0.5 else 'Legitimate'}\")\n",
    "    print(\"-\" * 40)"
   ]
  },
  {
   "cell_type": "markdown",
   "id": "e5b8c94b",
   "metadata": {},
   "source": [
    "## 6. Model Saving "
   ]
  },
  {
   "cell_type": "code",
   "execution_count": 22,
   "id": "74a9c2ef",
   "metadata": {},
   "outputs": [
    {
     "name": "stdout",
     "output_type": "stream",
     "text": [
      "Model saved to models/trained_model_NB1.pt\n"
     ]
    }
   ],
   "source": [
    "torch.save(model.state_dict(), \"models/trained_model_NB1.pt\")\n",
    "print(\"Model saved to models/trained_model_NB1.pt\")"
   ]
  }
 ],
 "metadata": {
  "kernelspec": {
   "display_name": ".venv",
   "language": "python",
   "name": "python3"
  },
  "language_info": {
   "codemirror_mode": {
    "name": "ipython",
    "version": 3
   },
   "file_extension": ".py",
   "mimetype": "text/x-python",
   "name": "python",
   "nbconvert_exporter": "python",
   "pygments_lexer": "ipython3",
   "version": "3.9.6"
  }
 },
 "nbformat": 4,
 "nbformat_minor": 5
}
